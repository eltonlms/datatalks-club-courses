{
  "nbformat": 4,
  "nbformat_minor": 0,
  "metadata": {
    "colab": {
      "provenance": []
    },
    "kernelspec": {
      "name": "python3",
      "display_name": "Python 3"
    },
    "language_info": {
      "name": "python"
    }
  },
  "cells": [
    {
      "cell_type": "code",
      "execution_count": 2,
      "metadata": {
        "id": "fus3ciqnIUEm"
      },
      "outputs": [],
      "source": [
        "import pandas as pd\n",
        "import numpy as np"
      ]
    },
    {
      "cell_type": "code",
      "source": [
        "!wget https://raw.githubusercontent.com/alexeygrigorev/datasets/master/housing.csv\n",
        "df = pd.read_csv(\"/content/housing.csv\")"
      ],
      "metadata": {
        "colab": {
          "base_uri": "https://localhost:8080/"
        },
        "id": "CmTqrq3sMwHU",
        "outputId": "0ab04e3d-304e-4dd7-bef1-81eb3183ee49"
      },
      "execution_count": 3,
      "outputs": [
        {
          "output_type": "stream",
          "name": "stdout",
          "text": [
            "--2023-09-17 20:08:56--  https://raw.githubusercontent.com/alexeygrigorev/datasets/master/housing.csv\n",
            "Resolving raw.githubusercontent.com (raw.githubusercontent.com)... 185.199.108.133, 185.199.109.133, 185.199.110.133, ...\n",
            "Connecting to raw.githubusercontent.com (raw.githubusercontent.com)|185.199.108.133|:443... connected.\n",
            "HTTP request sent, awaiting response... 200 OK\n",
            "Length: 1423529 (1.4M) [text/plain]\n",
            "Saving to: ‘housing.csv.7’\n",
            "\n",
            "\rhousing.csv.7         0%[                    ]       0  --.-KB/s               \rhousing.csv.7       100%[===================>]   1.36M  --.-KB/s    in 0.04s   \n",
            "\n",
            "2023-09-17 20:08:56 (31.9 MB/s) - ‘housing.csv.7’ saved [1423529/1423529]\n",
            "\n"
          ]
        }
      ]
    },
    {
      "cell_type": "markdown",
      "source": [
        "###  Question 1: Version of Pandas"
      ],
      "metadata": {
        "id": "KpaeuRBPLjLl"
      }
    },
    {
      "cell_type": "code",
      "source": [
        "version = pd.__version__\n",
        "print(f\"Current Pandas Version: {version}\")"
      ],
      "metadata": {
        "colab": {
          "base_uri": "https://localhost:8080/"
        },
        "id": "m5JaTpyDI7H1",
        "outputId": "22f2d944-91ce-49e3-f78e-baa1af6a7a76"
      },
      "execution_count": 4,
      "outputs": [
        {
          "output_type": "stream",
          "name": "stdout",
          "text": [
            "Current Pandas Version: 1.5.3\n"
          ]
        }
      ]
    },
    {
      "cell_type": "markdown",
      "source": [
        "###  Question 2: How many columns are in the dataset?"
      ],
      "metadata": {
        "id": "we-YAl6NL-PL"
      }
    },
    {
      "cell_type": "code",
      "source": [
        "print(f\"There are {df.shape[1]} columns.\")"
      ],
      "metadata": {
        "colab": {
          "base_uri": "https://localhost:8080/"
        },
        "id": "FPvoOjddLOIV",
        "outputId": "5f9eb0a8-a7ed-4629-a7f6-1394f73104b2"
      },
      "execution_count": 5,
      "outputs": [
        {
          "output_type": "stream",
          "name": "stdout",
          "text": [
            "There are 10 columns.\n"
          ]
        }
      ]
    },
    {
      "cell_type": "markdown",
      "source": [
        "### Question 3: Select columns with missing data"
      ],
      "metadata": {
        "id": "hcEi7pzcMZDp"
      }
    },
    {
      "cell_type": "code",
      "source": [
        "df.info()"
      ],
      "metadata": {
        "colab": {
          "base_uri": "https://localhost:8080/"
        },
        "id": "XYOVpF0bM0H7",
        "outputId": "43562634-fbea-4b00-950b-8fd2853dcb94"
      },
      "execution_count": 6,
      "outputs": [
        {
          "output_type": "stream",
          "name": "stdout",
          "text": [
            "<class 'pandas.core.frame.DataFrame'>\n",
            "RangeIndex: 20640 entries, 0 to 20639\n",
            "Data columns (total 10 columns):\n",
            " #   Column              Non-Null Count  Dtype  \n",
            "---  ------              --------------  -----  \n",
            " 0   longitude           20640 non-null  float64\n",
            " 1   latitude            20640 non-null  float64\n",
            " 2   housing_median_age  20640 non-null  float64\n",
            " 3   total_rooms         20640 non-null  float64\n",
            " 4   total_bedrooms      20433 non-null  float64\n",
            " 5   population          20640 non-null  float64\n",
            " 6   households          20640 non-null  float64\n",
            " 7   median_income       20640 non-null  float64\n",
            " 8   median_house_value  20640 non-null  float64\n",
            " 9   ocean_proximity     20640 non-null  object \n",
            "dtypes: float64(9), object(1)\n",
            "memory usage: 1.6+ MB\n"
          ]
        }
      ]
    },
    {
      "cell_type": "code",
      "source": [
        "print(\"The column with na data is total_bedrooms.\")"
      ],
      "metadata": {
        "colab": {
          "base_uri": "https://localhost:8080/"
        },
        "id": "kMZ_UPpjM156",
        "outputId": "2a820b76-2b9a-468a-818e-785758a297ad"
      },
      "execution_count": 7,
      "outputs": [
        {
          "output_type": "stream",
          "name": "stdout",
          "text": [
            "The column with na data is total_bedrooms.\n"
          ]
        }
      ]
    },
    {
      "cell_type": "markdown",
      "source": [
        "### Question 4: Number of unique values in the 'ocean_proximity' column"
      ],
      "metadata": {
        "id": "KUkRWhI-NEaI"
      }
    },
    {
      "cell_type": "code",
      "source": [
        "unique_ocean_proximity = df[\"ocean_proximity\"].nunique()"
      ],
      "metadata": {
        "id": "rL-uN7LqNV-N"
      },
      "execution_count": 8,
      "outputs": []
    },
    {
      "cell_type": "code",
      "source": [
        "print(f\"Quantity of unique values in ocean_proximity column: {unique_ocean_proximity}\")"
      ],
      "metadata": {
        "colab": {
          "base_uri": "https://localhost:8080/"
        },
        "id": "0opfjxrfNa3J",
        "outputId": "5d2e2ad1-7b32-4668-814c-03b007df9284"
      },
      "execution_count": 9,
      "outputs": [
        {
          "output_type": "stream",
          "name": "stdout",
          "text": [
            "Quantity of unique values in ocean_proximity column: 5\n"
          ]
        }
      ]
    },
    {
      "cell_type": "markdown",
      "source": [
        "### Question 5: Average value of the 'median_house_value' for the houses near the bay"
      ],
      "metadata": {
        "id": "5L2elOp5Nq2Q"
      }
    },
    {
      "cell_type": "code",
      "source": [
        "near_bay_average = df.query(\"ocean_proximity == 'NEAR BAY'\")[\"median_house_value\"].mean()"
      ],
      "metadata": {
        "id": "-RvoSyAaNvZG"
      },
      "execution_count": 10,
      "outputs": []
    },
    {
      "cell_type": "code",
      "source": [
        "print(f\"The Average value for the houses near the bay is: {near_bay_average:,.2f}\")"
      ],
      "metadata": {
        "colab": {
          "base_uri": "https://localhost:8080/"
        },
        "id": "Md4yaB26NxUY",
        "outputId": "521f4d5c-d758-4ffc-df5d-03f02e48feef"
      },
      "execution_count": 11,
      "outputs": [
        {
          "output_type": "stream",
          "name": "stdout",
          "text": [
            "The Average value for the houses near the bay is: 259,212.31\n"
          ]
        }
      ]
    },
    {
      "cell_type": "markdown",
      "source": [
        "### Question 6: Has the mean value changed after filling missing values?"
      ],
      "metadata": {
        "id": "lr-8UM6mQwT-"
      }
    },
    {
      "cell_type": "code",
      "source": [
        "initial_mean_value = df[\"total_bedrooms\"].mean()\n",
        "df[\"total_bedrooms\"] = df[\"total_bedrooms\"].fillna(initial_mean_value)\n",
        "final_mean_value = df[\"total_bedrooms\"].mean()\n",
        "initial_mean_value.round(2) == final_mean_value.round(2)"
      ],
      "metadata": {
        "id": "xY-LWSgvOHHy",
        "colab": {
          "base_uri": "https://localhost:8080/"
        },
        "outputId": "d7eca86b-b096-4311-9f89-1813fa96fea8"
      },
      "execution_count": 12,
      "outputs": [
        {
          "output_type": "execute_result",
          "data": {
            "text/plain": [
              "True"
            ]
          },
          "metadata": {},
          "execution_count": 12
        }
      ]
    },
    {
      "cell_type": "code",
      "source": [
        "print(\"The mean value didin't change after filling the missing values.\")"
      ],
      "metadata": {
        "colab": {
          "base_uri": "https://localhost:8080/"
        },
        "id": "nymJNL4OPi4w",
        "outputId": "01be26ae-6b1c-4bf0-d5b6-2c5fa766864f"
      },
      "execution_count": 13,
      "outputs": [
        {
          "output_type": "stream",
          "name": "stdout",
          "text": [
            "The mean value didin't change after filling the missing values.\n"
          ]
        }
      ]
    },
    {
      "cell_type": "markdown",
      "source": [
        "### Questions 7: Value of the last element of w"
      ],
      "metadata": {
        "id": "KsM3mcqtPkiE"
      }
    },
    {
      "cell_type": "code",
      "source": [
        "x_columns = [\"housing_median_age\", \"total_rooms\", \"total_bedrooms\"]\n",
        "df2 = df.query(\"ocean_proximity == 'ISLAND'\")[x_columns]"
      ],
      "metadata": {
        "id": "om3jiYBXRqYb"
      },
      "execution_count": 14,
      "outputs": []
    },
    {
      "cell_type": "code",
      "source": [
        "X = np.array(df2)\n",
        "XT = X.T\n",
        "XTX = XT.dot(X)\n",
        "y = np.array([950, 1300, 800, 1000, 1300])\n",
        "XTX_inv = np.linalg.inv(XTX)\n",
        "w =(XTX_inv.dot(XT)).dot(y)"
      ],
      "metadata": {
        "id": "tr78fdLSR40g"
      },
      "execution_count": 15,
      "outputs": []
    },
    {
      "cell_type": "code",
      "source": [
        "print(f\"The last element of w is: {w[-1]:.4f}\")"
      ],
      "metadata": {
        "colab": {
          "base_uri": "https://localhost:8080/"
        },
        "id": "mQqmuN2kVx2T",
        "outputId": "97a6e1b2-35cd-42cb-ce34-6c23cb1adbeb"
      },
      "execution_count": 16,
      "outputs": [
        {
          "output_type": "stream",
          "name": "stdout",
          "text": [
            "The last element of w is: 5.6992\n"
          ]
        }
      ]
    }
  ]
}