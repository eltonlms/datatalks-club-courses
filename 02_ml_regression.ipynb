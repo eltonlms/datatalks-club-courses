{
 "cells": [
  {
   "cell_type": "code",
   "execution_count": 1,
   "id": "initial_id",
   "metadata": {
    "collapsed": true,
    "ExecuteTime": {
     "end_time": "2023-09-25T20:10:31.129037634Z",
     "start_time": "2023-09-25T20:10:30.581710805Z"
    }
   },
   "outputs": [],
   "source": [
    "import pandas as pd\n",
    "import numpy as np"
   ]
  },
  {
   "cell_type": "code",
   "execution_count": 2,
   "outputs": [
    {
     "name": "stdout",
     "output_type": "stream",
     "text": [
      "--2023-09-25 17:10:32--  https://raw.githubusercontent.com/alexeygrigorev/datasets/master/housing.csv\r\n",
      "Resolving raw.githubusercontent.com (raw.githubusercontent.com)... 2606:50c0:8003::154, 2606:50c0:8001::154, 2606:50c0:8000::154, ...\r\n",
      "Connecting to raw.githubusercontent.com (raw.githubusercontent.com)|2606:50c0:8003::154|:443... failed: Network is unreachable.\r\n",
      "Connecting to raw.githubusercontent.com (raw.githubusercontent.com)|2606:50c0:8001::154|:443... failed: Network is unreachable.\r\n",
      "Connecting to raw.githubusercontent.com (raw.githubusercontent.com)|2606:50c0:8000::154|:443... failed: Network is unreachable.\r\n",
      "Connecting to raw.githubusercontent.com (raw.githubusercontent.com)|2606:50c0:8002::154|:443... failed: Network is unreachable.\r\n",
      "Connecting to raw.githubusercontent.com (raw.githubusercontent.com)|185.199.109.133|:443... connected.\r\n",
      "HTTP request sent, awaiting response... 200 OK\r\n",
      "Length: 1423529 (1.4M) [text/plain]\r\n",
      "Saving to: ‘housing.csv’\r\n",
      "\r\n",
      "housing.csv         100%[===================>]   1.36M  2.73MB/s    in 0.5s    \r\n",
      "\r\n",
      "2023-09-25 17:10:32 (2.73 MB/s) - ‘housing.csv’ saved [1423529/1423529]\r\n",
      "\r\n"
     ]
    }
   ],
   "source": [
    "data = \"https://raw.githubusercontent.com/alexeygrigorev/datasets/master/housing.csv\"\n",
    "!wget $data"
   ],
   "metadata": {
    "collapsed": false,
    "ExecuteTime": {
     "end_time": "2023-09-25T20:10:33.092482872Z",
     "start_time": "2023-09-25T20:10:31.855787147Z"
    }
   },
   "id": "b2833befbad0caf2"
  },
  {
   "cell_type": "code",
   "execution_count": 3,
   "outputs": [
    {
     "data": {
      "text/plain": "(20640, 10)"
     },
     "execution_count": 3,
     "metadata": {},
     "output_type": "execute_result"
    }
   ],
   "source": [
    "initial_df = pd.read_csv(\"housing.csv\")\n",
    "initial_df.shape"
   ],
   "metadata": {
    "collapsed": false,
    "ExecuteTime": {
     "end_time": "2023-09-25T20:10:33.139982301Z",
     "start_time": "2023-09-25T20:10:33.095387588Z"
    }
   },
   "id": "f7aaead73baf853d"
  },
  {
   "cell_type": "code",
   "execution_count": 4,
   "outputs": [
    {
     "data": {
      "text/plain": "['households',\n 'housing_median_age',\n 'latitude',\n 'longitude',\n 'median_house_value',\n 'median_income',\n 'ocean_proximity',\n 'population',\n 'total_bedrooms',\n 'total_rooms']"
     },
     "execution_count": 4,
     "metadata": {},
     "output_type": "execute_result"
    }
   ],
   "source": [
    "sorted(initial_df)"
   ],
   "metadata": {
    "collapsed": false,
    "ExecuteTime": {
     "end_time": "2023-09-25T20:10:34.244986266Z",
     "start_time": "2023-09-25T20:10:34.229679010Z"
    }
   },
   "id": "9ae824c8ab2ed4de"
  },
  {
   "cell_type": "markdown",
   "source": [
    "## DataPrep"
   ],
   "metadata": {
    "collapsed": false
   },
   "id": "1dec4675ad2dda55"
  },
  {
   "cell_type": "code",
   "execution_count": 5,
   "outputs": [],
   "source": [
    "list_proximity = [\n",
    "    '<1H OCEAN',\n",
    "    'INLAND',\n",
    "]\n",
    "\n",
    "cols = [\n",
    "    'latitude',\n",
    "    'longitude',\n",
    "    'housing_median_age',\n",
    "    'total_rooms',\n",
    "    'total_bedrooms',\n",
    "    'population',\n",
    "    'households',\n",
    "    'median_income',\n",
    "    'median_house_value'\n",
    "    ]\n",
    "\n",
    "df = initial_df.query(\"ocean_proximity.isin(@list_proximity)\").loc[:, cols]"
   ],
   "metadata": {
    "collapsed": false,
    "ExecuteTime": {
     "end_time": "2023-09-25T20:10:35.763605763Z",
     "start_time": "2023-09-25T20:10:35.735054138Z"
    }
   },
   "id": "6f1f569dc8886d9f"
  },
  {
   "cell_type": "markdown",
   "source": [
    "# Question 1\n",
    "There's one feature with missing values. What is it?"
   ],
   "metadata": {
    "collapsed": false
   },
   "id": "22367af6d1b07eb9"
  },
  {
   "cell_type": "code",
   "execution_count": 6,
   "outputs": [
    {
     "data": {
      "text/plain": "latitude                0\nlongitude               0\nhousing_median_age      0\ntotal_rooms             0\ntotal_bedrooms        157\npopulation              0\nhouseholds              0\nmedian_income           0\nmedian_house_value      0\ndtype: int64"
     },
     "execution_count": 6,
     "metadata": {},
     "output_type": "execute_result"
    }
   ],
   "source": [
    "df.isnull().sum()"
   ],
   "metadata": {
    "collapsed": false,
    "ExecuteTime": {
     "end_time": "2023-09-25T20:10:37.514735379Z",
     "start_time": "2023-09-25T20:10:37.503692218Z"
    }
   },
   "id": "918bb662fddb16fa"
  },
  {
   "cell_type": "code",
   "execution_count": 7,
   "outputs": [
    {
     "name": "stdout",
     "output_type": "stream",
     "text": [
      "The column total_bedrooms contains missing values.\n"
     ]
    }
   ],
   "source": [
    "print(\"The column total_bedrooms contains missing values.\")"
   ],
   "metadata": {
    "collapsed": false,
    "ExecuteTime": {
     "end_time": "2023-09-25T20:10:38.554029982Z",
     "start_time": "2023-09-25T20:10:38.478637281Z"
    }
   },
   "id": "736482045d12776a"
  },
  {
   "cell_type": "markdown",
   "source": [
    "# Question 2\n",
    "What's the median (50% percentile) for variable 'population'?"
   ],
   "metadata": {
    "collapsed": false
   },
   "id": "477b1a706bcd8b64"
  },
  {
   "cell_type": "code",
   "execution_count": 8,
   "outputs": [
    {
     "name": "stdout",
     "output_type": "stream",
     "text": [
      "The median fot variable population is 1195.\n"
     ]
    }
   ],
   "source": [
    "population_median = df[\"population\"].median()\n",
    "print(f\"The median fot variable population is {population_median:.0f}.\")"
   ],
   "metadata": {
    "collapsed": false,
    "ExecuteTime": {
     "end_time": "2023-09-25T20:10:40.461133436Z",
     "start_time": "2023-09-25T20:10:40.434624192Z"
    }
   },
   "id": "effefa75c51193b0"
  },
  {
   "cell_type": "markdown",
   "source": [
    "# Additional Steps\n",
    "\n",
    "Prepare and split the dataset:"
   ],
   "metadata": {
    "collapsed": false
   },
   "id": "e2edec06cedb6b44"
  },
  {
   "cell_type": "markdown",
   "source": [
    "* Shuffle the dataset (the filtered one you created above), use seed 42."
   ],
   "metadata": {
    "collapsed": false
   },
   "id": "23a9ae51e555947"
  },
  {
   "cell_type": "code",
   "execution_count": 9,
   "outputs": [],
   "source": [
    "np.random.seed(42)\n",
    "n = df.shape[0]\n",
    "idx = np.arange(n)\n",
    "np.random.shuffle(idx)"
   ],
   "metadata": {
    "collapsed": false,
    "ExecuteTime": {
     "end_time": "2023-09-25T20:10:43.761457223Z",
     "start_time": "2023-09-25T20:10:43.722426248Z"
    }
   },
   "id": "3cb0c00299fc489c"
  },
  {
   "cell_type": "markdown",
   "source": [
    "* Split your data in train/val/test sets, with 60%/20%/20% distribution."
   ],
   "metadata": {
    "collapsed": false
   },
   "id": "10fdc39768eb377f"
  },
  {
   "cell_type": "code",
   "execution_count": 10,
   "outputs": [
    {
     "data": {
      "text/plain": "True"
     },
     "execution_count": 10,
     "metadata": {},
     "output_type": "execute_result"
    }
   ],
   "source": [
    "n_val = int(n * 0.2)\n",
    "n_test = int(n * 0.2)\n",
    "n_train = n - n_val - n_test\n",
    "\n",
    "# Validation\n",
    "n_val + n_test + n_train == n"
   ],
   "metadata": {
    "collapsed": false,
    "ExecuteTime": {
     "end_time": "2023-09-25T20:10:44.896058886Z",
     "start_time": "2023-09-25T20:10:44.881610840Z"
    }
   },
   "id": "c0ee05a67f560485"
  },
  {
   "cell_type": "code",
   "execution_count": 11,
   "outputs": [
    {
     "data": {
      "text/plain": "True"
     },
     "execution_count": 11,
     "metadata": {},
     "output_type": "execute_result"
    }
   ],
   "source": [
    "df_train = df.iloc[idx[:n_train]].reset_index(drop=True)\n",
    "df_val = df.iloc[idx[n_train:n_train+n_val]].reset_index(drop=True)\n",
    "df_test = df.iloc[idx[n_train+n_val:]].reset_index(drop=True)\n",
    "\n",
    "# Validation\n",
    "df_train.shape[0] + df_val.shape[0] + df_test.shape[0] == df.shape[0]"
   ],
   "metadata": {
    "collapsed": false,
    "ExecuteTime": {
     "end_time": "2023-09-25T20:10:45.800793107Z",
     "start_time": "2023-09-25T20:10:45.766490980Z"
    }
   },
   "id": "bddcb9c31f9f71aa"
  },
  {
   "cell_type": "markdown",
   "source": [
    "* Apply the log transformation to the **median_house_value** variable using the np.log1p() function."
   ],
   "metadata": {
    "collapsed": false
   },
   "id": "fab43ae4d3dbcadc"
  },
  {
   "cell_type": "code",
   "execution_count": 12,
   "outputs": [],
   "source": [
    "y_train = np.log1p(df_train[\"median_house_value\"].values)\n",
    "y_val = np.log1p(df_val[\"median_house_value\"].values)\n",
    "y_test = np.log1p(df_test[\"median_house_value\"].values)\n",
    "\n",
    "del df_train['median_house_value'], df_val['median_house_value'], df_test['median_house_value']"
   ],
   "metadata": {
    "collapsed": false,
    "ExecuteTime": {
     "end_time": "2023-09-25T20:10:47.240519355Z",
     "start_time": "2023-09-25T20:10:47.224558400Z"
    }
   },
   "id": "17b75cb192c88713"
  },
  {
   "cell_type": "markdown",
   "source": [
    "# Question 3\n",
    "We need to deal with missing values for the column from Q1.\n",
    "\n",
    "We have two options: fill it with 0 or with the mean of this variable.\n",
    "\n",
    "Try both options. For each, train a linear regression model without regularization using the code from the lessons.\n",
    "\n",
    "For computing the mean, use the training only!\n",
    "\n",
    "Use the validation dataset to evaluate the models and compare the RMSE of each option.\n",
    "\n",
    "Round the RMSE scores to 2 decimal digits using round(score, 2)\n",
    "\n",
    "Which option gives better RMSE?"
   ],
   "metadata": {
    "collapsed": false
   },
   "id": "e998597d5ed2a299"
  },
  {
   "cell_type": "code",
   "execution_count": 13,
   "outputs": [],
   "source": [
    "def train_linear_regression(X, y):\n",
    "    ones = np.ones(X.shape[0])\n",
    "    X = np.column_stack([ones, X])\n",
    "    \n",
    "    XTX = X.T.dot(X)\n",
    "    XTX_inv = np.linalg.inv(XTX)\n",
    "    w_full = XTX_inv.dot(X.T).dot(y)\n",
    "    \n",
    "    return w_full[0], w_full[1:]\n",
    "\n",
    "\n",
    "def rmse(y, y_pred):\n",
    "    error = y_pred - y\n",
    "    mse = (error ** 2).mean()\n",
    "    return np.sqrt(mse)"
   ],
   "metadata": {
    "collapsed": false,
    "ExecuteTime": {
     "end_time": "2023-09-25T20:10:48.820812848Z",
     "start_time": "2023-09-25T20:10:48.807460573Z"
    }
   },
   "id": "74c3f96002f112d2"
  },
  {
   "cell_type": "code",
   "execution_count": 14,
   "outputs": [
    {
     "data": {
      "text/plain": "latitude               0\nlongitude              0\nhousing_median_age     0\ntotal_rooms            0\ntotal_bedrooms        94\npopulation             0\nhouseholds             0\nmedian_income          0\ndtype: int64"
     },
     "execution_count": 14,
     "metadata": {},
     "output_type": "execute_result"
    }
   ],
   "source": [
    "df_train.isnull().sum()"
   ],
   "metadata": {
    "collapsed": false,
    "ExecuteTime": {
     "end_time": "2023-09-25T20:10:49.442022975Z",
     "start_time": "2023-09-25T20:10:49.406581602Z"
    }
   },
   "id": "34158f76f79cd13d"
  },
  {
   "cell_type": "markdown",
   "source": [
    "## 1º Option: Zero values."
   ],
   "metadata": {
    "collapsed": false
   },
   "id": "d2b10eddaf33e346"
  },
  {
   "cell_type": "code",
   "execution_count": 15,
   "outputs": [],
   "source": [
    "X_train = df_train.fillna(0).values\n",
    "\n",
    "w_0, w = train_linear_regression(X_train, y_train)"
   ],
   "metadata": {
    "collapsed": false,
    "ExecuteTime": {
     "end_time": "2023-09-25T20:10:51.047601406Z",
     "start_time": "2023-09-25T20:10:50.993994860Z"
    }
   },
   "id": "233ae093ade9f921"
  },
  {
   "cell_type": "code",
   "execution_count": 16,
   "outputs": [],
   "source": [
    "y_pred_train = w_0 + X_train.dot(w)"
   ],
   "metadata": {
    "collapsed": false,
    "ExecuteTime": {
     "end_time": "2023-09-25T20:10:51.624919308Z",
     "start_time": "2023-09-25T20:10:51.588943295Z"
    }
   },
   "id": "9989535420e0c06"
  },
  {
   "cell_type": "code",
   "execution_count": 17,
   "outputs": [],
   "source": [
    "X_val = df_val.fillna(0).values\n",
    "y_pred_val = w_0 + X_val.dot(w)"
   ],
   "metadata": {
    "collapsed": false,
    "ExecuteTime": {
     "end_time": "2023-09-25T20:10:52.096583104Z",
     "start_time": "2023-09-25T20:10:52.027334673Z"
    }
   },
   "id": "18727a4b705db4bd"
  },
  {
   "cell_type": "code",
   "execution_count": 18,
   "outputs": [
    {
     "data": {
      "text/plain": "0.34"
     },
     "execution_count": 18,
     "metadata": {},
     "output_type": "execute_result"
    }
   ],
   "source": [
    "rmse_val0 = round(rmse(y_val, y_pred_val), 2)\n",
    "rmse_val0"
   ],
   "metadata": {
    "collapsed": false,
    "ExecuteTime": {
     "end_time": "2023-09-25T20:10:52.549674441Z",
     "start_time": "2023-09-25T20:10:52.515079396Z"
    }
   },
   "id": "13e81b8cb88dba72"
  },
  {
   "cell_type": "code",
   "execution_count": 19,
   "outputs": [],
   "source": [
    "del X_train, w_0, w, y_pred_train, X_val, y_pred_val"
   ],
   "metadata": {
    "collapsed": false,
    "ExecuteTime": {
     "end_time": "2023-09-25T20:10:53.035788727Z",
     "start_time": "2023-09-25T20:10:52.994855526Z"
    }
   },
   "id": "9bf73258e27735c2"
  },
  {
   "cell_type": "markdown",
   "source": [
    "## 2º Option: Mean value."
   ],
   "metadata": {
    "collapsed": false
   },
   "id": "20c7d4e708e2f1a8"
  },
  {
   "cell_type": "code",
   "execution_count": 20,
   "outputs": [],
   "source": [
    "mean_values = df_train.mean()\n",
    "X_train = df_train.fillna(mean_values).values"
   ],
   "metadata": {
    "collapsed": false,
    "ExecuteTime": {
     "end_time": "2023-09-25T20:10:54.063185046Z",
     "start_time": "2023-09-25T20:10:54.050328723Z"
    }
   },
   "id": "a5813b7ded6293ac"
  },
  {
   "cell_type": "code",
   "execution_count": 21,
   "outputs": [],
   "source": [
    "w_0, w = train_linear_regression(X_train, y_train)"
   ],
   "metadata": {
    "collapsed": false,
    "ExecuteTime": {
     "end_time": "2023-09-25T20:10:54.541598413Z",
     "start_time": "2023-09-25T20:10:54.520805721Z"
    }
   },
   "id": "77484ef693bd5179"
  },
  {
   "cell_type": "code",
   "execution_count": 22,
   "outputs": [],
   "source": [
    "y_pred_train = w_0 + X_train.dot(w)"
   ],
   "metadata": {
    "collapsed": false,
    "ExecuteTime": {
     "end_time": "2023-09-25T20:10:54.878852567Z",
     "start_time": "2023-09-25T20:10:54.860326815Z"
    }
   },
   "id": "12f7578177d0d94f"
  },
  {
   "cell_type": "code",
   "execution_count": 23,
   "outputs": [],
   "source": [
    "X_val = df_val.fillna(mean_values).values\n",
    "y_pred_val = w_0 + X_val.dot(w)"
   ],
   "metadata": {
    "collapsed": false,
    "ExecuteTime": {
     "end_time": "2023-09-25T20:10:55.250782136Z",
     "start_time": "2023-09-25T20:10:55.227799574Z"
    }
   },
   "id": "3609f8613004a204"
  },
  {
   "cell_type": "code",
   "execution_count": 24,
   "outputs": [
    {
     "data": {
      "text/plain": "0.34"
     },
     "execution_count": 24,
     "metadata": {},
     "output_type": "execute_result"
    }
   ],
   "source": [
    "rmse_val1 = round(rmse(y_val, y_pred_val), 2)\n",
    "rmse_val1"
   ],
   "metadata": {
    "collapsed": false,
    "ExecuteTime": {
     "end_time": "2023-09-25T20:10:55.588264994Z",
     "start_time": "2023-09-25T20:10:55.534672437Z"
    }
   },
   "id": "1eafbc9b59029ff7"
  },
  {
   "cell_type": "code",
   "execution_count": 25,
   "outputs": [
    {
     "data": {
      "text/plain": "(0.34, 0.34)"
     },
     "execution_count": 25,
     "metadata": {},
     "output_type": "execute_result"
    }
   ],
   "source": [
    "rmse_val0, rmse_val1"
   ],
   "metadata": {
    "collapsed": false,
    "ExecuteTime": {
     "end_time": "2023-09-25T20:10:55.878632833Z",
     "start_time": "2023-09-25T20:10:55.867018355Z"
    }
   },
   "id": "417f306b17dca90a"
  },
  {
   "cell_type": "code",
   "execution_count": 26,
   "outputs": [
    {
     "name": "stdout",
     "output_type": "stream",
     "text": [
      "Both options are equally good.\n"
     ]
    }
   ],
   "source": [
    "print(\"Both options are equally good.\")"
   ],
   "metadata": {
    "collapsed": false,
    "ExecuteTime": {
     "end_time": "2023-09-25T20:10:56.294510378Z",
     "start_time": "2023-09-25T20:10:56.278643211Z"
    }
   },
   "id": "46c566d66439bf1a"
  },
  {
   "cell_type": "markdown",
   "source": [
    "# Question 4\n",
    "Now let's train a regularized linear regression.\n",
    "\n",
    "For this question, fill the NAs with 0.\n",
    "\n",
    "Try different values of r from this list: [0, 0.000001, 0.0001, 0.001, 0.01, 0.1, 1, 5, 10].\n",
    "\n",
    "Use RMSE to evaluate the model on the validation dataset.\n",
    "\n",
    "Round the RMSE scores to 2 decimal digits.\n",
    "\n",
    "Which r gives the best RMSE?\n",
    "\n",
    "If there are multiple options, select the smallest r."
   ],
   "metadata": {
    "collapsed": false
   },
   "id": "774225a1f626f16b"
  },
  {
   "cell_type": "code",
   "execution_count": 27,
   "outputs": [],
   "source": [
    "def train_linear_regression_reg(X, y, r):\n",
    "    ones = np.ones(X.shape[0])\n",
    "    X = np.column_stack([ones, X])\n",
    "\n",
    "    XTX = X.T.dot(X)\n",
    "    reg = r * np.eye(XTX.shape[0])\n",
    "    XTX = XTX + reg\n",
    "\n",
    "    XTX_inv = np.linalg.inv(XTX)\n",
    "    w = XTX_inv.dot(X.T).dot(y)\n",
    "    \n",
    "    return w[0], w[1:]"
   ],
   "metadata": {
    "collapsed": false,
    "ExecuteTime": {
     "end_time": "2023-09-25T20:10:57.503210469Z",
     "start_time": "2023-09-25T20:10:57.463096826Z"
    }
   },
   "id": "42b83b0bcdf196a3"
  },
  {
   "cell_type": "code",
   "execution_count": 28,
   "outputs": [],
   "source": [
    "X_train = df_train.fillna(0).values\n",
    "X_val = df_val.fillna(0).values\n",
    "\n",
    "reg_values = [0, 0.000001, 0.001, 0.0001]"
   ],
   "metadata": {
    "collapsed": false,
    "ExecuteTime": {
     "end_time": "2023-09-25T20:10:58.230947850Z",
     "start_time": "2023-09-25T20:10:58.212389536Z"
    }
   },
   "id": "77f701191232ad4a"
  },
  {
   "cell_type": "code",
   "execution_count": 31,
   "outputs": [],
   "source": [
    "def multiple_r_linear_reg(X_train, y_train, y_val, reg_values):\n",
    "    for r in reg_values:\n",
    "        w_0, w = train_linear_regression_reg(X_train, y_train, r=r)\n",
    "        y_pred = w_0 + X_val.dot(w)\n",
    "        _rmse = rmse(y_val, y_pred)\n",
    "        print(f\"For {r=}, the RMSE is {_rmse:.2f}\")"
   ],
   "metadata": {
    "collapsed": false,
    "ExecuteTime": {
     "end_time": "2023-09-25T20:11:42.007710693Z",
     "start_time": "2023-09-25T20:11:42.003035097Z"
    }
   },
   "id": "acfd73eb986c87e"
  },
  {
   "cell_type": "code",
   "execution_count": 32,
   "outputs": [
    {
     "name": "stdout",
     "output_type": "stream",
     "text": [
      "For r=0, the RMSE is 0.34\n",
      "For r=1e-06, the RMSE is 0.34\n",
      "For r=0.001, the RMSE is 0.34\n",
      "For r=0.0001, the RMSE is 0.34\n"
     ]
    }
   ],
   "source": [
    "multiple_r_linear_reg(X_train, y_train, y_val, reg_values)"
   ],
   "metadata": {
    "collapsed": false,
    "ExecuteTime": {
     "end_time": "2023-09-25T20:11:45.937459031Z",
     "start_time": "2023-09-25T20:11:45.868912138Z"
    }
   },
   "id": "f232507fdce1f7c3"
  },
  {
   "cell_type": "markdown",
   "source": [
    "# Question 5\n",
    "We used seed 42 for splitting the data. Let's find out how selecting the seed influences our score.\n",
    "\n",
    "Try different seed values: [0, 1, 2, 3, 4, 5, 6, 7, 8, 9].\n",
    "\n",
    "For each seed, do the train/validation/test split with 60%/20%/20% distribution.\n",
    "\n",
    "Fill the missing values with 0 and train a model without regularization.\n",
    "\n",
    "For each seed, evaluate the model on the validation dataset and collect the RMSE scores.\n",
    "\n",
    "What's the standard deviation of all the scores? To compute the standard deviation, use np.std.\n",
    "\n",
    "Round the result to 3 decimal digits (round(std, 3))\n",
    "\n",
    "What's the value of std?"
   ],
   "metadata": {
    "collapsed": false
   },
   "id": "5e5ac2d793898fc"
  },
  {
   "cell_type": "code",
   "execution_count": 35,
   "outputs": [],
   "source": [
    "seed_list = np.arange(10)"
   ],
   "metadata": {
    "collapsed": false,
    "ExecuteTime": {
     "end_time": "2023-09-25T20:11:59.220104740Z",
     "start_time": "2023-09-25T20:11:59.197940544Z"
    }
   },
   "id": "6b8e536b14188179"
  },
  {
   "cell_type": "code",
   "execution_count": 36,
   "outputs": [],
   "source": [
    "def train_linear_regression(X, y):\n",
    "    ones = np.ones(X.shape[0])\n",
    "    X = np.column_stack([ones, X])\n",
    "    \n",
    "    XTX = X.T.dot(X)\n",
    "    XTX_inv = np.linalg.inv(XTX)\n",
    "    w_full = XTX_inv.dot(X.T).dot(y)\n",
    "    \n",
    "    return w_full[0], w_full[1:]\n",
    "\n",
    "\n",
    "def rmse(y, y_pred):\n",
    "    error = y_pred - y\n",
    "    mse = (error ** 2).mean()\n",
    "    return np.sqrt(mse)\n",
    "\n",
    "def multiple_runs_linear_regressions(df, seed_list):\n",
    "    scores = []\n",
    "    for seed in seed_list:\n",
    "        np.random.seed(seed)\n",
    "        n = df.shape[0]\n",
    "        idx = np.arange(n)\n",
    "        np.random.shuffle(idx)\n",
    "\n",
    "        n_val = int(n * 0.2)\n",
    "        n_test = int(n * 0.2)\n",
    "        n_train = n - n_val - n_test\n",
    "\n",
    "        df_train = df.iloc[idx[:n_train]].reset_index(drop=True)\n",
    "        df_val = df.iloc[idx[n_train:n_train+n_val]].reset_index(drop=True)\n",
    "        df_test = df.iloc[idx[n_train+n_val:]].reset_index(drop=True)\n",
    "        \n",
    "        y_train = np.log1p(df_train[\"median_house_value\"].values)\n",
    "        y_val = np.log1p(df_val[\"median_house_value\"].values)\n",
    "        y_test = np.log1p(df_test[\"median_house_value\"].values)\n",
    "\n",
    "        del df_train['median_house_value'], df_val['median_house_value'], df_test['median_house_value']\n",
    "\n",
    "        X_train = df_train.fillna(0).values\n",
    "\n",
    "        w_0, w = train_linear_regression(X_train, y_train)\n",
    "\n",
    "        X_val = df_val.fillna(0).values\n",
    "        y_pred_val = w_0 + X_val.dot(w)\n",
    "\n",
    "        rmse_val = rmse(y_val, y_pred_val)\n",
    "        scores.append(rmse_val)\n",
    "    return round(np.std(scores), 3)"
   ],
   "metadata": {
    "collapsed": false,
    "ExecuteTime": {
     "end_time": "2023-09-25T20:11:59.900725465Z",
     "start_time": "2023-09-25T20:11:59.888532587Z"
    }
   },
   "id": "85304670264d1f7e"
  },
  {
   "cell_type": "code",
   "execution_count": 37,
   "outputs": [
    {
     "name": "stdout",
     "output_type": "stream",
     "text": [
      "The standard deviation is 0.005, it is low, our model is stable for this problem.\n"
     ]
    }
   ],
   "source": [
    "std_score = multiple_runs_linear_regressions(df, seed_list)\n",
    "print(f\"The standard deviation is {std_score}, it is low, our model is stable for this problem.\")"
   ],
   "metadata": {
    "collapsed": false,
    "ExecuteTime": {
     "end_time": "2023-09-25T20:12:00.704111126Z",
     "start_time": "2023-09-25T20:12:00.586625830Z"
    }
   },
   "id": "179f7878e4d6c6e8"
  },
  {
   "cell_type": "markdown",
   "source": [
    "# Question 6\n",
    "Split the dataset like previously, use seed 9.\n",
    "\n",
    "Combine train and validation datasets.\n",
    "\n",
    "Fill the missing values with 0 and train a model with r=0.001.\n",
    "\n",
    "What's the RMSE on the test dataset?"
   ],
   "metadata": {
    "collapsed": false
   },
   "id": "a9161b1210f3958b"
  },
  {
   "cell_type": "code",
   "execution_count": 38,
   "outputs": [],
   "source": [
    "def train_linear_regression_reg(X, y, r):\n",
    "    ones = np.ones(X.shape[0])\n",
    "    X = np.column_stack([ones, X])\n",
    "\n",
    "    XTX = X.T.dot(X)\n",
    "    reg = r * np.eye(XTX.shape[0])\n",
    "    XTX = XTX + reg\n",
    "\n",
    "    XTX_inv = np.linalg.inv(XTX)\n",
    "    w = XTX_inv.dot(X.T).dot(y)\n",
    "    \n",
    "    return w[0], w[1:]\n",
    "\n",
    "def rmse(y, y_pred):\n",
    "    error = y_pred - y\n",
    "    mse = (error ** 2).mean()\n",
    "    return np.sqrt(mse)\n",
    "\n",
    "def multiple_runs_linear_regressions_reg(df, seed_list, r):\n",
    "    scores = []\n",
    "    for seed in seed_list:\n",
    "        np.random.seed(seed)\n",
    "        n = df.shape[0]\n",
    "        idx = np.arange(n)\n",
    "        np.random.shuffle(idx)\n",
    "\n",
    "        n_val = int(n * 0.2)\n",
    "        n_test = int(n * 0.2)\n",
    "        n_train = n - n_val - n_test\n",
    "\n",
    "        df_train = df.iloc[idx[:n_train]].reset_index(drop=True)\n",
    "        df_val = df.iloc[idx[n_train:n_train+n_val]].reset_index(drop=True)\n",
    "        df_test = df.iloc[idx[n_train+n_val:]].reset_index(drop=True)\n",
    "        \n",
    "        y_train = np.log1p(df_train[\"median_house_value\"].values)\n",
    "        y_val = np.log1p(df_val[\"median_house_value\"].values)\n",
    "        y_test = np.log1p(df_test[\"median_house_value\"].values)\n",
    "\n",
    "        del df_train['median_house_value'], df_val['median_house_value'], df_test['median_house_value']\n",
    "\n",
    "        X_train = df_train.fillna(0).values\n",
    "\n",
    "        w_0, w = train_linear_regression_reg(X_train, y_train, r)\n",
    "\n",
    "        X_val = df_val.fillna(0).values\n",
    "        y_pred_val = w_0 + X_val.dot(w)\n",
    "\n",
    "        rmse_val = rmse(y_val, y_pred_val)\n",
    "    return np.round(rmse_val, 2)"
   ],
   "metadata": {
    "collapsed": false,
    "ExecuteTime": {
     "end_time": "2023-09-25T20:12:04.000638189Z",
     "start_time": "2023-09-25T20:12:03.994372195Z"
    }
   },
   "id": "f2a460cc679d8855"
  },
  {
   "cell_type": "code",
   "execution_count": 39,
   "outputs": [
    {
     "name": "stdout",
     "output_type": "stream",
     "text": [
      "The Root Mean Squared Error with r_value=[0.001] is 0.33\n"
     ]
    }
   ],
   "source": [
    "r_value = [0.001]\n",
    "seed_value = [9]\n",
    "rmse_score = multiple_runs_linear_regressions_reg(df, seed_value, r_value)\n",
    "print(f\"The Root Mean Squared Error with {r_value=} is {rmse_score}\")"
   ],
   "metadata": {
    "collapsed": false,
    "ExecuteTime": {
     "end_time": "2023-09-25T20:12:04.800542694Z",
     "start_time": "2023-09-25T20:12:04.647840044Z"
    }
   },
   "id": "94b9743a755596e2"
  },
  {
   "cell_type": "code",
   "execution_count": null,
   "outputs": [],
   "source": [],
   "metadata": {
    "collapsed": false
   },
   "id": "a7c3fb22128c265b"
  }
 ],
 "metadata": {
  "kernelspec": {
   "display_name": "Python 3",
   "language": "python",
   "name": "python3"
  },
  "language_info": {
   "codemirror_mode": {
    "name": "ipython",
    "version": 2
   },
   "file_extension": ".py",
   "mimetype": "text/x-python",
   "name": "python",
   "nbconvert_exporter": "python",
   "pygments_lexer": "ipython2",
   "version": "2.7.6"
  }
 },
 "nbformat": 4,
 "nbformat_minor": 5
}
